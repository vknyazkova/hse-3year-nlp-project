{
 "cells": [
  {
   "cell_type": "code",
   "execution_count": 1,
   "id": "d764c7cf",
   "metadata": {},
   "outputs": [],
   "source": [
    "import requests\n",
    "from bs4 import BeautifulSoup\n",
    "import json\n",
    "import re"
   ]
  },
  {
   "cell_type": "code",
   "execution_count": 2,
   "id": "57f9cf8c",
   "metadata": {},
   "outputs": [],
   "source": [
    "corpus = {}\n",
    "\n",
    "for i in range(1000, 1500):\n",
    "    req = 'https://www.gastronom.ru/recipe/' + str(i)\n",
    "    response = requests.get(req)\n",
    "    \n",
    "    if (response.status_code == 200):\n",
    "        text = ''\n",
    "        soup = BeautifulSoup(response.text, 'html.parser')\n",
    "        recipe = soup.findAll('div', {'class': 'recipe__step-text'})\n",
    "        intro = soup.find('div', {'class': 'recipe__intro'})\n",
    "        name = soup.find('h1', {'class': 'recipe__title'})\n",
    "        \n",
    "        if intro != None:\n",
    "            intro = re.sub('<[^>]+>', '',re.sub('-<br/>','',str(intro))).strip()\n",
    "            text += intro + ' '\n",
    "            \n",
    "        if recipe != None:\n",
    "            for step in recipe:\n",
    "                step = re.sub('<[^>]+>', ' ',re.sub('-<br/>',' ', str(step))).replace('\\n', ' ').replace('\\r', ' ').strip()\n",
    "                step = re.sub(' +', ' ', re.sub('1\\. ', ' ', (re.sub('[2-9]\\.', ' ', re.sub('\\.', '. ', step)))))\n",
    "                text += step\n",
    "\n",
    "        if name != None:\n",
    "            name = name.get_text()\n",
    "        corpus[i] = [text, name]"
   ]
  },
  {
   "cell_type": "code",
   "execution_count": 3,
   "id": "dbd3fe40",
   "metadata": {},
   "outputs": [],
   "source": [
    "with open('corpus.json', 'w', encoding='utf-8') as f:\n",
    "    json.dump(corpus, f, ensure_ascii=False, indent='\\t')"
   ]
  },
  {
   "cell_type": "code",
   "execution_count": 4,
   "id": "e0ad1bbf",
   "metadata": {},
   "outputs": [],
   "source": [
    "with open('corpus.json', 'r', encoding='utf-8') as f:\n",
    "    corpus = json.load(f)\n",
    "\n",
    "for i in range(1000, 1500): \n",
    "    corpus[i] = corpus[str(i)]\n",
    "    corpus.pop(str(i))"
   ]
  }
 ],
 "metadata": {
  "kernelspec": {
   "display_name": "Python 3",
   "language": "python",
   "name": "python3"
  },
  "language_info": {
   "codemirror_mode": {
    "name": "ipython",
    "version": 3
   },
   "file_extension": ".py",
   "mimetype": "text/x-python",
   "name": "python",
   "nbconvert_exporter": "python",
   "pygments_lexer": "ipython3",
   "version": "3.8.8"
  }
 },
 "nbformat": 4,
 "nbformat_minor": 5
}
