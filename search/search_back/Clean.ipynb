{
 "cells": [
  {
   "cell_type": "code",
   "execution_count": 52,
   "id": "704902e8",
   "metadata": {},
   "outputs": [
    {
     "name": "stdout",
     "output_type": "stream",
     "text": [
      "Requirement already satisfied: setuptools in /Library/Frameworks/Python.framework/Versions/3.9/lib/python3.9/site-packages (49.2.1)\n",
      "Requirement already satisfied: wheel in /Library/Frameworks/Python.framework/Versions/3.9/lib/python3.9/site-packages (0.37.1)\n",
      "\u001b[33mWARNING: You are using pip version 21.0.1; however, version 22.3 is available.\n",
      "You should consider upgrading via the '/Library/Frameworks/Python.framework/Versions/3.9/bin/python3.9 -m pip install --upgrade pip' command.\u001b[0m\n",
      "Requirement already satisfied: spacy in /Library/Frameworks/Python.framework/Versions/3.9/lib/python3.9/site-packages (3.2.4)\n",
      "Requirement already satisfied: srsly<3.0.0,>=2.4.1 in /Library/Frameworks/Python.framework/Versions/3.9/lib/python3.9/site-packages (from spacy) (2.4.3)\n",
      "Requirement already satisfied: jinja2 in /Library/Frameworks/Python.framework/Versions/3.9/lib/python3.9/site-packages (from spacy) (3.0.1)\n",
      "Requirement already satisfied: pydantic!=1.8,!=1.8.1,<1.9.0,>=1.7.4 in /Library/Frameworks/Python.framework/Versions/3.9/lib/python3.9/site-packages (from spacy) (1.8.2)\n",
      "Requirement already satisfied: spacy-legacy<3.1.0,>=3.0.8 in /Library/Frameworks/Python.framework/Versions/3.9/lib/python3.9/site-packages (from spacy) (3.0.9)\n",
      "Requirement already satisfied: blis<0.8.0,>=0.4.0 in /Library/Frameworks/Python.framework/Versions/3.9/lib/python3.9/site-packages (from spacy) (0.7.7)\n",
      "Requirement already satisfied: packaging>=20.0 in /Library/Frameworks/Python.framework/Versions/3.9/lib/python3.9/site-packages (from spacy) (21.0)\n",
      "Requirement already satisfied: murmurhash<1.1.0,>=0.28.0 in /Library/Frameworks/Python.framework/Versions/3.9/lib/python3.9/site-packages (from spacy) (1.0.6)\n",
      "Requirement already satisfied: tqdm<5.0.0,>=4.38.0 in /Library/Frameworks/Python.framework/Versions/3.9/lib/python3.9/site-packages (from spacy) (4.62.3)\n",
      "Requirement already satisfied: thinc<8.1.0,>=8.0.12 in /Library/Frameworks/Python.framework/Versions/3.9/lib/python3.9/site-packages (from spacy) (8.0.15)\n",
      "Requirement already satisfied: pathy>=0.3.5 in /Library/Frameworks/Python.framework/Versions/3.9/lib/python3.9/site-packages (from spacy) (0.6.1)\n",
      "Requirement already satisfied: cymem<2.1.0,>=2.0.2 in /Library/Frameworks/Python.framework/Versions/3.9/lib/python3.9/site-packages (from spacy) (2.0.6)\n",
      "Requirement already satisfied: setuptools in /Library/Frameworks/Python.framework/Versions/3.9/lib/python3.9/site-packages (from spacy) (49.2.1)\n",
      "Requirement already satisfied: preshed<3.1.0,>=3.0.2 in /Library/Frameworks/Python.framework/Versions/3.9/lib/python3.9/site-packages (from spacy) (3.0.6)\n",
      "Requirement already satisfied: typer<0.5.0,>=0.3.0 in /Library/Frameworks/Python.framework/Versions/3.9/lib/python3.9/site-packages (from spacy) (0.4.1)\n",
      "Requirement already satisfied: catalogue<2.1.0,>=2.0.6 in /Library/Frameworks/Python.framework/Versions/3.9/lib/python3.9/site-packages (from spacy) (2.0.7)\n",
      "Requirement already satisfied: wasabi<1.1.0,>=0.8.1 in /Library/Frameworks/Python.framework/Versions/3.9/lib/python3.9/site-packages (from spacy) (0.9.1)\n",
      "Requirement already satisfied: langcodes<4.0.0,>=3.2.0 in /Library/Frameworks/Python.framework/Versions/3.9/lib/python3.9/site-packages (from spacy) (3.3.0)\n",
      "Requirement already satisfied: click<8.1.0 in /Library/Frameworks/Python.framework/Versions/3.9/lib/python3.9/site-packages (from spacy) (8.0.1)\n",
      "Requirement already satisfied: spacy-loggers<2.0.0,>=1.0.0 in /Library/Frameworks/Python.framework/Versions/3.9/lib/python3.9/site-packages (from spacy) (1.0.2)\n",
      "Requirement already satisfied: requests<3.0.0,>=2.13.0 in /Library/Frameworks/Python.framework/Versions/3.9/lib/python3.9/site-packages (from spacy) (2.25.1)\n",
      "Requirement already satisfied: numpy>=1.15.0 in /Library/Frameworks/Python.framework/Versions/3.9/lib/python3.9/site-packages (from spacy) (1.21.2)\n",
      "Requirement already satisfied: pyparsing>=2.0.2 in /Library/Frameworks/Python.framework/Versions/3.9/lib/python3.9/site-packages (from packaging>=20.0->spacy) (2.4.7)\n",
      "Requirement already satisfied: smart-open<6.0.0,>=5.0.0 in /Library/Frameworks/Python.framework/Versions/3.9/lib/python3.9/site-packages (from pathy>=0.3.5->spacy) (5.2.1)\n",
      "Requirement already satisfied: typing-extensions>=3.7.4.3 in /Library/Frameworks/Python.framework/Versions/3.9/lib/python3.9/site-packages (from pydantic!=1.8,!=1.8.1,<1.9.0,>=1.7.4->spacy) (4.1.1)\n",
      "Requirement already satisfied: certifi>=2017.4.17 in /Library/Frameworks/Python.framework/Versions/3.9/lib/python3.9/site-packages (from requests<3.0.0,>=2.13.0->spacy) (2021.10.8)\n",
      "Requirement already satisfied: chardet<5,>=3.0.2 in /Library/Frameworks/Python.framework/Versions/3.9/lib/python3.9/site-packages (from requests<3.0.0,>=2.13.0->spacy) (4.0.0)\n",
      "Requirement already satisfied: urllib3<1.27,>=1.21.1 in /Library/Frameworks/Python.framework/Versions/3.9/lib/python3.9/site-packages (from requests<3.0.0,>=2.13.0->spacy) (1.26.4)\n",
      "Requirement already satisfied: idna<3,>=2.5 in /Library/Frameworks/Python.framework/Versions/3.9/lib/python3.9/site-packages (from requests<3.0.0,>=2.13.0->spacy) (2.10)\n",
      "Requirement already satisfied: MarkupSafe>=2.0 in /Library/Frameworks/Python.framework/Versions/3.9/lib/python3.9/site-packages (from jinja2->spacy) (2.0.1)\n",
      "\u001b[33mWARNING: You are using pip version 21.0.1; however, version 22.3 is available.\n",
      "You should consider upgrading via the '/Library/Frameworks/Python.framework/Versions/3.9/bin/python3.9 -m pip install --upgrade pip' command.\u001b[0m\n",
      "Collecting ru-core-news-sm==3.2.0\n",
      "  Downloading https://github.com/explosion/spacy-models/releases/download/ru_core_news_sm-3.2.0/ru_core_news_sm-3.2.0-py3-none-any.whl (16.4 MB)\n",
      "\u001b[K     |████████████████████████████████| 16.4 MB 10.0 MB/s eta 0:00:01     |███████████████████████████▉    | 14.3 MB 10.0 MB/s eta 0:00:01\n",
      "\u001b[?25hRequirement already satisfied: spacy<3.3.0,>=3.2.0 in /Library/Frameworks/Python.framework/Versions/3.9/lib/python3.9/site-packages (from ru-core-news-sm==3.2.0) (3.2.4)\n",
      "Requirement already satisfied: pymorphy2>=0.9 in /Library/Frameworks/Python.framework/Versions/3.9/lib/python3.9/site-packages (from ru-core-news-sm==3.2.0) (0.9.1)\n",
      "Requirement already satisfied: dawg-python>=0.7.1 in /Library/Frameworks/Python.framework/Versions/3.9/lib/python3.9/site-packages (from pymorphy2>=0.9->ru-core-news-sm==3.2.0) (0.7.2)\n",
      "Requirement already satisfied: pymorphy2-dicts-ru<3.0,>=2.4 in /Library/Frameworks/Python.framework/Versions/3.9/lib/python3.9/site-packages (from pymorphy2>=0.9->ru-core-news-sm==3.2.0) (2.4.417127.4579844)\n",
      "Requirement already satisfied: docopt>=0.6 in /Library/Frameworks/Python.framework/Versions/3.9/lib/python3.9/site-packages (from pymorphy2>=0.9->ru-core-news-sm==3.2.0) (0.6.2)\n",
      "Requirement already satisfied: packaging>=20.0 in /Library/Frameworks/Python.framework/Versions/3.9/lib/python3.9/site-packages (from spacy<3.3.0,>=3.2.0->ru-core-news-sm==3.2.0) (21.0)\n",
      "Requirement already satisfied: murmurhash<1.1.0,>=0.28.0 in /Library/Frameworks/Python.framework/Versions/3.9/lib/python3.9/site-packages (from spacy<3.3.0,>=3.2.0->ru-core-news-sm==3.2.0) (1.0.6)\n",
      "Requirement already satisfied: blis<0.8.0,>=0.4.0 in /Library/Frameworks/Python.framework/Versions/3.9/lib/python3.9/site-packages (from spacy<3.3.0,>=3.2.0->ru-core-news-sm==3.2.0) (0.7.7)\n",
      "Requirement already satisfied: spacy-legacy<3.1.0,>=3.0.8 in /Library/Frameworks/Python.framework/Versions/3.9/lib/python3.9/site-packages (from spacy<3.3.0,>=3.2.0->ru-core-news-sm==3.2.0) (3.0.9)\n",
      "Requirement already satisfied: preshed<3.1.0,>=3.0.2 in /Library/Frameworks/Python.framework/Versions/3.9/lib/python3.9/site-packages (from spacy<3.3.0,>=3.2.0->ru-core-news-sm==3.2.0) (3.0.6)\n",
      "Requirement already satisfied: typer<0.5.0,>=0.3.0 in /Library/Frameworks/Python.framework/Versions/3.9/lib/python3.9/site-packages (from spacy<3.3.0,>=3.2.0->ru-core-news-sm==3.2.0) (0.4.1)\n",
      "Requirement already satisfied: spacy-loggers<2.0.0,>=1.0.0 in /Library/Frameworks/Python.framework/Versions/3.9/lib/python3.9/site-packages (from spacy<3.3.0,>=3.2.0->ru-core-news-sm==3.2.0) (1.0.2)\n",
      "Requirement already satisfied: cymem<2.1.0,>=2.0.2 in /Library/Frameworks/Python.framework/Versions/3.9/lib/python3.9/site-packages (from spacy<3.3.0,>=3.2.0->ru-core-news-sm==3.2.0) (2.0.6)\n",
      "Requirement already satisfied: jinja2 in /Library/Frameworks/Python.framework/Versions/3.9/lib/python3.9/site-packages (from spacy<3.3.0,>=3.2.0->ru-core-news-sm==3.2.0) (3.0.1)\n",
      "Requirement already satisfied: setuptools in /Library/Frameworks/Python.framework/Versions/3.9/lib/python3.9/site-packages (from spacy<3.3.0,>=3.2.0->ru-core-news-sm==3.2.0) (49.2.1)\n",
      "Requirement already satisfied: catalogue<2.1.0,>=2.0.6 in /Library/Frameworks/Python.framework/Versions/3.9/lib/python3.9/site-packages (from spacy<3.3.0,>=3.2.0->ru-core-news-sm==3.2.0) (2.0.7)\n"
     ]
    },
    {
     "name": "stdout",
     "output_type": "stream",
     "text": [
      "Requirement already satisfied: pydantic!=1.8,!=1.8.1,<1.9.0,>=1.7.4 in /Library/Frameworks/Python.framework/Versions/3.9/lib/python3.9/site-packages (from spacy<3.3.0,>=3.2.0->ru-core-news-sm==3.2.0) (1.8.2)\n",
      "Requirement already satisfied: srsly<3.0.0,>=2.4.1 in /Library/Frameworks/Python.framework/Versions/3.9/lib/python3.9/site-packages (from spacy<3.3.0,>=3.2.0->ru-core-news-sm==3.2.0) (2.4.3)\n",
      "Requirement already satisfied: requests<3.0.0,>=2.13.0 in /Library/Frameworks/Python.framework/Versions/3.9/lib/python3.9/site-packages (from spacy<3.3.0,>=3.2.0->ru-core-news-sm==3.2.0) (2.25.1)\n",
      "Requirement already satisfied: click<8.1.0 in /Library/Frameworks/Python.framework/Versions/3.9/lib/python3.9/site-packages (from spacy<3.3.0,>=3.2.0->ru-core-news-sm==3.2.0) (8.0.1)\n",
      "Requirement already satisfied: numpy>=1.15.0 in /Library/Frameworks/Python.framework/Versions/3.9/lib/python3.9/site-packages (from spacy<3.3.0,>=3.2.0->ru-core-news-sm==3.2.0) (1.21.2)\n",
      "Requirement already satisfied: tqdm<5.0.0,>=4.38.0 in /Library/Frameworks/Python.framework/Versions/3.9/lib/python3.9/site-packages (from spacy<3.3.0,>=3.2.0->ru-core-news-sm==3.2.0) (4.62.3)\n",
      "Requirement already satisfied: langcodes<4.0.0,>=3.2.0 in /Library/Frameworks/Python.framework/Versions/3.9/lib/python3.9/site-packages (from spacy<3.3.0,>=3.2.0->ru-core-news-sm==3.2.0) (3.3.0)\n",
      "Requirement already satisfied: wasabi<1.1.0,>=0.8.1 in /Library/Frameworks/Python.framework/Versions/3.9/lib/python3.9/site-packages (from spacy<3.3.0,>=3.2.0->ru-core-news-sm==3.2.0) (0.9.1)\n",
      "Requirement already satisfied: pathy>=0.3.5 in /Library/Frameworks/Python.framework/Versions/3.9/lib/python3.9/site-packages (from spacy<3.3.0,>=3.2.0->ru-core-news-sm==3.2.0) (0.6.1)\n",
      "Requirement already satisfied: thinc<8.1.0,>=8.0.12 in /Library/Frameworks/Python.framework/Versions/3.9/lib/python3.9/site-packages (from spacy<3.3.0,>=3.2.0->ru-core-news-sm==3.2.0) (8.0.15)\n",
      "Requirement already satisfied: pyparsing>=2.0.2 in /Library/Frameworks/Python.framework/Versions/3.9/lib/python3.9/site-packages (from packaging>=20.0->spacy<3.3.0,>=3.2.0->ru-core-news-sm==3.2.0) (2.4.7)\n",
      "Requirement already satisfied: smart-open<6.0.0,>=5.0.0 in /Library/Frameworks/Python.framework/Versions/3.9/lib/python3.9/site-packages (from pathy>=0.3.5->spacy<3.3.0,>=3.2.0->ru-core-news-sm==3.2.0) (5.2.1)\n",
      "Requirement already satisfied: typing-extensions>=3.7.4.3 in /Library/Frameworks/Python.framework/Versions/3.9/lib/python3.9/site-packages (from pydantic!=1.8,!=1.8.1,<1.9.0,>=1.7.4->spacy<3.3.0,>=3.2.0->ru-core-news-sm==3.2.0) (4.1.1)\n",
      "Requirement already satisfied: urllib3<1.27,>=1.21.1 in /Library/Frameworks/Python.framework/Versions/3.9/lib/python3.9/site-packages (from requests<3.0.0,>=2.13.0->spacy<3.3.0,>=3.2.0->ru-core-news-sm==3.2.0) (1.26.4)\n",
      "Requirement already satisfied: idna<3,>=2.5 in /Library/Frameworks/Python.framework/Versions/3.9/lib/python3.9/site-packages (from requests<3.0.0,>=2.13.0->spacy<3.3.0,>=3.2.0->ru-core-news-sm==3.2.0) (2.10)\n",
      "Requirement already satisfied: certifi>=2017.4.17 in /Library/Frameworks/Python.framework/Versions/3.9/lib/python3.9/site-packages (from requests<3.0.0,>=2.13.0->spacy<3.3.0,>=3.2.0->ru-core-news-sm==3.2.0) (2021.10.8)\n",
      "Requirement already satisfied: chardet<5,>=3.0.2 in /Library/Frameworks/Python.framework/Versions/3.9/lib/python3.9/site-packages (from requests<3.0.0,>=2.13.0->spacy<3.3.0,>=3.2.0->ru-core-news-sm==3.2.0) (4.0.0)\n",
      "Requirement already satisfied: MarkupSafe>=2.0 in /Library/Frameworks/Python.framework/Versions/3.9/lib/python3.9/site-packages (from jinja2->spacy<3.3.0,>=3.2.0->ru-core-news-sm==3.2.0) (2.0.1)\n",
      "\u001b[33mWARNING: You are using pip version 21.0.1; however, version 22.3 is available.\n",
      "You should consider upgrading via the '/usr/local/bin/python3 -m pip install --upgrade pip' command.\u001b[0m\n",
      "\u001b[38;5;2m✔ Download and installation successful\u001b[0m\n",
      "You can now load the package via spacy.load('ru_core_news_sm')\n"
     ]
    }
   ],
   "source": [
    "!pip3 install setuptools wheel\n",
    "!pip3 install spacy\n",
    "!python3 -m spacy download ru_core_news_sm\n",
    "import spacy"
   ]
  },
  {
   "cell_type": "code",
   "execution_count": 53,
   "id": "2e908a43",
   "metadata": {},
   "outputs": [],
   "source": [
    "nlp = spacy.load(\"ru_core_news_sm\")"
   ]
  },
  {
   "cell_type": "markdown",
   "id": "76d2affc",
   "metadata": {},
   "source": [
    "# Функция 1"
   ]
  },
  {
   "cell_type": "code",
   "execution_count": 98,
   "id": "f952e8af",
   "metadata": {},
   "outputs": [],
   "source": [
    "def response2query(response_dict):\n",
    "    node_patterns = {}\n",
    "    constraints = {}\n",
    "    fields = ['upos', 'features']\n",
    "    for key1 in response_dict:\n",
    "        ID = key1.split('_')[0]\n",
    "        if 'word' in key1:\n",
    "            if '\"' in response_dict[key1]:\n",
    "                category = {}\n",
    "                category['form'] = response_dict[key1].strip('\"')\n",
    "                node_patterns[ID] = category\n",
    "            else:\n",
    "                category = {}\n",
    "                for key2 in response_dict:\n",
    "                    if key2.split('_')[0] == ID and key2.split('_')[1] in fields:\n",
    "                        lemma = nlp(response_dict[key1])[0].lemma_\n",
    "                        if response_dict[key1] == lemma:\n",
    "                            if key2.split('_')[1] == 'upos':\n",
    "                                category['lemma'] = response_dict[key1]\n",
    "                                category['upos'] = response_dict[key2]\n",
    "                            elif key2.split('_')[1] == 'features':\n",
    "                                category['lemma'] = response_dict[key1]\n",
    "                                for cat in response_dict[key2].split(','):\n",
    "                                    category[cat.strip(' ').split('=')[0]] = cat.strip(' ').split('=')[1]\n",
    "                        else:\n",
    "                            if key2.split('_')[1] == 'upos':\n",
    "                                category['lemma'] = lemma\n",
    "                                category['upos'] = response_dict[key2]\n",
    "                            elif key2.split('_')[1] == 'features':\n",
    "                                category['lemma'] = lemma\n",
    "                                for cat in response_dict[key2].split(','):\n",
    "                                    category[cat.strip(' ').split('=')[0]] = cat.strip(' ').split('=')[1]\n",
    "                node_patterns[ID] = category\n",
    "                           \n",
    "        elif 'from' in key1:\n",
    "            for key2 in response_dict:\n",
    "                if key2.split('_')[0] == ID and key2.split('_')[1] == 'to':\n",
    "                    lndst = {}\n",
    "                    lndst_value = (int(response_dict[key1]), int(response_dict[key2]))\n",
    "                    lndst['lindist'] = lndst_value\n",
    "                    constr_key = (str((int(ID)) - 1), ID)\n",
    "                    constraints[constr_key] = lndst\n",
    "    return node_patterns, constraints"
   ]
  },
  {
   "cell_type": "code",
   "execution_count": 99,
   "id": "8036d3dd",
   "metadata": {},
   "outputs": [],
   "source": [
    "example_response_dict = {\n",
    "    '0_word': 'бежать', # лемма -> lemma\n",
    "    '1_word': 'школу', # словоформа, которую надо привести к лемме -> lemma\n",
    "    '2_word': '\"бегу\"',  # словоформа, которую не надо приводить к лемме -> form\n",
    "    '0_upos': 'VERB', \n",
    "    '0_features': 'Tense=Past, Person=1',  \n",
    "    '1_features': 'Case=Nom',\n",
    "    '2_from': '0',\n",
    "    '3_from': '1',\n",
    "    '2_to': '1',\n",
    "    '3_to': '2'\n",
    "}"
   ]
  },
  {
   "cell_type": "code",
   "execution_count": 102,
   "id": "f36ab8b1",
   "metadata": {},
   "outputs": [
    {
     "name": "stdout",
     "output_type": "stream",
     "text": [
      "({'0': {'lemma': 'бежать', 'upos': 'VERB', 'Tense': 'Past', 'Person': '1'}, '1': {'lemma': 'школа', 'Case': 'Nom'}, '2': {'form': 'бегу'}}, {('1', '2'): {'lindist': (0, 1)}, ('2', '3'): {'lindist': (1, 2)}})\n"
     ]
    }
   ],
   "source": [
    "print(response2query(example_response_dict))"
   ]
  },
  {
   "cell_type": "markdown",
   "id": "80af2115",
   "metadata": {},
   "source": [
    "# Функция 2"
   ]
  },
  {
   "cell_type": "code",
   "execution_count": 54,
   "id": "f1a1d89b",
   "metadata": {},
   "outputs": [],
   "source": [
    "s = 'промыть курицу и порезать ее'"
   ]
  },
  {
   "cell_type": "code",
   "execution_count": 55,
   "id": "ce1bcfc3",
   "metadata": {},
   "outputs": [],
   "source": [
    "def string2query(s):\n",
    "    doc = nlp(s)\n",
    "    node_patterns = {}\n",
    "    for sent in doc.sents:\n",
    "        for token in sent:\n",
    "            value = {}\n",
    "            value['form'] = token.text\n",
    "            node_patterns[str(token.i - sent.start)] = value\n",
    "    constraints = {}\n",
    "    if len(doc) > 1:\n",
    "        for key in node_patterns:\n",
    "            if int(key) > 0:\n",
    "                lndst = {}\n",
    "                lndst['lindist'] = (1, 1)\n",
    "                constraints[str(int(key) - 1), key] = lndst            \n",
    "    return node_patterns, constraints"
   ]
  },
  {
   "cell_type": "code",
   "execution_count": 57,
   "id": "cdb7f3ae",
   "metadata": {},
   "outputs": [
    {
     "name": "stdout",
     "output_type": "stream",
     "text": [
      "({'0': {'form': 'промыть'}, '1': {'form': 'курицу'}, '2': {'form': 'и'}, '3': {'form': 'порезать'}, '4': {'form': 'ее'}}, {('0', '1'): {'lindist': (1, 1)}, ('1', '2'): {'lindist': (1, 1)}, ('2', '3'): {'lindist': (1, 1)}, ('3', '4'): {'lindist': (1, 1)}})\n"
     ]
    }
   ],
   "source": [
    "print(string2query(s))"
   ]
  },
  {
   "cell_type": "markdown",
   "id": "f62c6524",
   "metadata": {},
   "source": [
    "# Функция 3"
   ]
  },
  {
   "cell_type": "code",
   "execution_count": 110,
   "id": "6d279437",
   "metadata": {},
   "outputs": [],
   "source": [
    "example_search_result = {\n",
    "    1: {\n",
    "        'source': 'https://www.gastronom.ru/recipe/1035', \n",
    "        'name': 'Цыпленок карри', \n",
    "        'entries': [\n",
    "            [('Разрубить', 1), ('курицу', 1), ('на', 0), ('небольшие', 0), ('куски', 0), ('.', 0)], \n",
    "            [('Перемешать', 1), ('курицу', 1), ('с', 0), ('маринадом', 0), (',', 0), ('оставить', 0), ('на', 0), ('3', 0), ('часа', 0), ('.', 0)]\n",
    "            ]\n",
    "        }, \n",
    "    2: {\n",
    "        'source': 'https://www.gastronom.ru/recipe/1127', \n",
    "        'name': 'Итальянский пирог с курицей и кабачком', \n",
    "        'entries': [\n",
    "            [('оливкового', 0), ('масла', 0), ('и', 0), ('подрумянить', 1), ('курицу', 1), ('на', 0), ('среднем', 0), ('огне', 0), ('.', 0)], \n",
    "            [('Вновь', 0), ('положить', 1), ('курицу', 1), ('в', 0), ('форму', 0), (',', 0), ('добавить', 0), ('чеснок', 0), ('и', 0), ('майоран', 0), (',', 0), ('жарить', 0), ('1', 0), ('мин', 0), ('.', 0)]\n",
    "            ]\n",
    "        }, \n",
    "    3: {\n",
    "        'source': 'https://www.gastronom.ru/recipe/1128', \n",
    "        'name': 'Запеченная курица с апельсиновым соком', \n",
    "        'entries': [\n",
    "            [('Посыпать', 1), ('курицу', 1), ('луком', 0), (',', 0), ('сверху', 0), ('положить', 0), ('кусочки', 0), ('масла', 0), ('.', 0)], \n",
    "            [('Запекать', 1), ('курицу', 1), ('30', 0), ('мин', 0), ('.', 0)], [('Полить', 1), ('курицу', 1), ('соусом', 0), ('и', 0), ('подать', 0), ('.', 0)]\n",
    "            ]\n",
    "        }, \n",
    "    4: {\n",
    "        'source': 'https://www.gastronom.ru/recipe/1129', \n",
    "        'name': 'Вареная курица с имбирем, луком и кинзой', \n",
    "        'entries': [\n",
    "            [('Снять', 0), ('с', 0), ('огня', 0), ('и', 0), ('дать', 1), ('курице', 1), ('остыть', 0), (',', 0), ('не', 0), ('вынимая', 0), ('ее', 0), ('из', 0), ('бульона', 0), ('.', 0)], \n",
    "            [('Вынуть', 1), ('курицу', 1), ('из', 0), ('кастрюли', 0), ('и', 0), ('нарезать', 0), ('небольшими', 0), ('кусочками', 0), ('.', 0)]\n",
    "            ]\n",
    "        } \n",
    "    }\n",
    "\n",
    "# i - номер документа ()\n",
    "# label - флажок для форматирования (можно забить)"
   ]
  },
  {
   "cell_type": "code",
   "execution_count": 109,
   "id": "32bb9149",
   "metadata": {},
   "outputs": [],
   "source": [
    "def search_info(search_result):\n",
    "    search = {}\n",
    "    n_sentences = len([' '.join([t[0] for t in entry]) for doc in search_result for entry in search_result[doc]['entries']])\n",
    "    n_documents = len(search_result)\n",
    "    n_entries = len([entry for doc in search_result for entry in search_result[doc]['entries']])\n",
    "    search['documents'] = n_documents\n",
    "    search['sentences'] = n_sentences\n",
    "    search['entries'] = n_entries\n",
    "    return search   "
   ]
  },
  {
   "cell_type": "code",
   "execution_count": 111,
   "id": "50b25e33",
   "metadata": {},
   "outputs": [
    {
     "name": "stdout",
     "output_type": "stream",
     "text": [
      "{'documents': 4, 'sentences': 9, 'entries': 9}\n"
     ]
    }
   ],
   "source": [
    "print(search_info(example_search_result))"
   ]
  },
  {
   "cell_type": "markdown",
   "id": "e6c1c032",
   "metadata": {},
   "source": [
    "# Функция 4"
   ]
  },
  {
   "cell_type": "code",
   "execution_count": 85,
   "id": "eb4f1f83",
   "metadata": {},
   "outputs": [],
   "source": [
    "# n_pp = {\n",
    "#     '0': {'form': 'промыть'},\n",
    "#     '1': {'form': 'курицу'},\n",
    "#     '2': {'form': 'и'},\n",
    "#     '3': {'form': 'порезать'},\n",
    "# }\n",
    "n_pp = {\n",
    "    '0': {'form': 'в'},\n",
    "    '1': {'upos': 'ADJ', 'Case': 'Acc'},\n",
    "    '2': {'upos': 'ADJ', 'Case': 'Acc'},\n",
    "    '3': {'form': 'страну'},\n",
    "}"
   ]
  },
  {
   "cell_type": "code",
   "execution_count": 81,
   "id": "b5a4922b",
   "metadata": {},
   "outputs": [],
   "source": [
    "css = {\n",
    "    ('0', '1'): {'lindist': (1, 1)},\n",
    "    ('1', '2'): {'lindist': (1, 1)},\n",
    "    ('2', '3'): {'lindist': (1, 1)},\n",
    "}"
   ]
  },
  {
   "cell_type": "code",
   "execution_count": 82,
   "id": "d58859a9",
   "metadata": {},
   "outputs": [],
   "source": [
    "def query_info(n_p, cs): # n_p - node_patterns; cs - constraints\n",
    "    result = []\n",
    "    if '0' in n_p:\n",
    "        if len(n_p['0']) > 1:\n",
    "            feats = []\n",
    "            for key3 in n_p['0']:\n",
    "                feats.append(n_p['0'][key3])\n",
    "            feats_str = \" & \".join(feats)\n",
    "            result.append(feats_str)\n",
    "        else:\n",
    "            word = n_p['0']['form']\n",
    "            result.append(word)\n",
    "    for key1 in n_p:\n",
    "        for key2 in cs:\n",
    "            if key1 == key2[1]:\n",
    "                if len(n_p[key1]) > 1:\n",
    "                    feats = []\n",
    "                    for key3 in n_p[key1]:\n",
    "                        feats.append(n_p[key1][key3])\n",
    "                    feats_str = \" & \".join(feats)\n",
    "                    from_ = cs[key2]['lindist'][0]\n",
    "                    to = cs[key2]['lindist'][1]\n",
    "                    result.append(f'{feats_str}, на расстоянии от {from_} до {to} от Слова {key1}')\n",
    "                else:\n",
    "                    word = n_p[key1]['form']\n",
    "                    from_ = cs[key2]['lindist'][0]\n",
    "                    to = cs[key2]['lindist'][1]\n",
    "                    result.append(f'{word}, на расстоянии от {from_} до {to} от Слова {key1}')\n",
    "    return result"
   ]
  },
  {
   "cell_type": "code",
   "execution_count": 86,
   "id": "1a170810",
   "metadata": {},
   "outputs": [
    {
     "name": "stdout",
     "output_type": "stream",
     "text": [
      "['в', 'ADJ & Acc, на расстоянии от 1 до 1 от Слова 1', 'ADJ & Acc, на расстоянии от 1 до 1 от Слова 2', 'страну, на расстоянии от 1 до 1 от Слова 3']\n"
     ]
    }
   ],
   "source": [
    "print(query_info(n_pp, css))"
   ]
  },
  {
   "cell_type": "code",
   "execution_count": null,
   "id": "41701677",
   "metadata": {},
   "outputs": [],
   "source": []
  }
 ],
 "metadata": {
  "kernelspec": {
   "display_name": "Python 3 (ipykernel)",
   "language": "python",
   "name": "python3"
  },
  "language_info": {
   "codemirror_mode": {
    "name": "ipython",
    "version": 3
   },
   "file_extension": ".py",
   "mimetype": "text/x-python",
   "name": "python",
   "nbconvert_exporter": "python",
   "pygments_lexer": "ipython3",
   "version": "3.9.2"
  }
 },
 "nbformat": 4,
 "nbformat_minor": 5
}
